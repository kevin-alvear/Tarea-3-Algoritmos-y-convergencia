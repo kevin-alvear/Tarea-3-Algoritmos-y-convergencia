{
  "cells": [
    {
      "cell_type": "markdown",
      "metadata": {
        "id": "view-in-github",
        "colab_type": "text"
      },
      "source": [
        "<a href=\"https://colab.research.google.com/github/kevin-alvear/Tarea-3-Algoritmos-y-convergencia/blob/main/%5BTarea_03%5D_ALVEAR_KEVIN.ipynb\" target=\"_parent\"><img src=\"https://colab.research.google.com/assets/colab-badge.svg\" alt=\"Open In Colab\"/></a>"
      ]
    },
    {
      "cell_type": "markdown",
      "metadata": {
        "id": "2s9q7irT32g9"
      },
      "source": [
        "CONJUNTO DE EJERCICIOS 1.3  \n",
        "Ejercicio 1 \\\\\n",
        "Utilice aritmética de corte de tres dígitos para calcular las siguientes sumas. Para cada parte, ¿qué método es más preciso y por qué?"
      ]
    },
    {
      "cell_type": "markdown",
      "metadata": {
        "id": "yTULnF_d4zfX"
      },
      "source": [
        "a. $\\sum_{i=1}^{10} \\frac{1}{i^2}$ primero por $\\frac{1}{1} + \\frac{1}{4} + \\cdots + \\frac{1}{100}$ y luego por $\\frac{1}{100} + \\frac{1}{81} + \\cdots + \\frac{1}{1}$"
      ]
    },
    {
      "cell_type": "markdown",
      "metadata": {
        "id": "KA1KdMj22Wao"
      },
      "source": [
        "\n",
        "\n",
        "```\n",
        "FUNCIÓN calcular_sumas_1a():\n",
        "    sum_direct ← 0\n",
        "    sum_reverse ← 0\n",
        "    \n",
        "    PARA i DESDE 1 HASTA 10:\n",
        "        sum_direct ← sum_direct + trunc(1 / i^2, 3)\n",
        "    \n",
        "    PARA i DESDE 10 HASTA 1 PASO -1:\n",
        "        sum_reverse ← sum_reverse + trunc(1 / i^2, 3)\n",
        "    \n",
        "    // Comparar cuál es más preciso (se evalúa fuera del algoritmo)\n",
        "    \n",
        "    RETORNAR sum_direct, sum_reverse\n",
        "\n",
        "suma_directa_1a, suma_inversa_1a ← calcular_sumas_1a()\n",
        "```\n",
        "\n"
      ]
    },
    {
      "cell_type": "markdown",
      "metadata": {
        "id": "0m9e1XIk7CPj"
      },
      "source": [
        "b. $\\sum_{i=1}^{10} \\frac{1}{i^3}$ primero por $\\frac{1}{1} + \\frac{1}{8} + \\frac{1}{27} + \\cdots + \\frac{1}{1000}$ y luego por $\\frac{1}{1000} + \\frac{1}{729} + \\cdots + \\frac{1}{1}$"
      ]
    },
    {
      "cell_type": "markdown",
      "metadata": {
        "id": "j-K392XH2Oo0"
      },
      "source": [
        "\n",
        "\n",
        "```\n",
        "FUNCIÓN calcular_sumas_1b():\n",
        "    sum_direct ← 0\n",
        "    sum_reverse ← 0\n",
        "    \n",
        "    PARA i DESDE 1 HASTA 10:\n",
        "        sum_direct ← sum_direct + trunc(1 / i^3, 3)\n",
        "    \n",
        "    PARA i DESDE 10 HASTA 1 PASO -1:\n",
        "        sum_reverse ← sum_reverse + trunc(1 / i^3, 3)\n",
        "    \n",
        "    // Comparar cuál es más preciso (se evalúa fuera del algoritmo)\n",
        "    \n",
        "    RETORNAR sum_direct, sum_reverse\n",
        "\n",
        "suma_directa_1b, suma_inversa_1b ← calcular_sumas_1b()\n",
        "```\n",
        "\n"
      ]
    },
    {
      "cell_type": "code",
      "execution_count": 19,
      "metadata": {
        "colab": {
          "base_uri": "https://localhost:8080/",
          "height": 0
        },
        "id": "d1_i2RkW3S3H",
        "outputId": "778c6537-b125-4d72-d511-2ab0208d1d9a"
      },
      "outputs": [
        {
          "output_type": "stream",
          "name": "stdout",
          "text": [
            "Ejercicio 1a: Suma directa = 1.547, Suma inversa = 1.547\n",
            "Ejercicio 1b: Suma directa = 1.1939999999999995, Suma inversa = 1.194\n"
          ]
        }
      ],
      "source": [
        "def trunc(value, digits):\n",
        "    factor = 10 ** digits\n",
        "    return int(value * factor) / factor\n",
        "\n",
        "def sum_series_direct_inverse(series_func, n, digits):\n",
        "    sum_direct = 0\n",
        "    sum_reverse = 0\n",
        "\n",
        "    # Suma directa\n",
        "    for i in range(1, n + 1):\n",
        "        sum_direct += trunc(series_func(i), digits)\n",
        "\n",
        "    # Suma inversa\n",
        "    for i in range(n, 0, -1):\n",
        "        sum_reverse += trunc(series_func(i), digits)\n",
        "\n",
        "    return sum_direct, sum_reverse\n",
        "\n",
        "# Ejercicio 1a\n",
        "sum_a_direct, sum_a_reverse = sum_series_direct_inverse(lambda i: 1 / i**2, 10, 3)\n",
        "print(f\"Ejercicio 1a: Suma directa = {sum_a_direct}, Suma inversa = {sum_a_reverse}\")\n",
        "\n",
        "# Ejercicio 1b\n",
        "sum_b_direct, sum_b_reverse = sum_series_direct_inverse(lambda i: 1 / i**3, 10, 3)\n",
        "print(f\"Ejercicio 1b: Suma directa = {sum_b_direct}, Suma inversa = {sum_b_reverse}\")\n"
      ]
    },
    {
      "cell_type": "markdown",
      "metadata": {
        "id": "nR3BgZIA2VoD"
      },
      "source": [
        "Ejercicio 2 \\\\\n",
        "La serie de Maclaurin para la función arcotangente converge para $-1 < x \\leq 1$ y está dada por $\\arctan x = \\lim_{n \\to \\infty} P_n(x) = \\lim_{n \\to \\infty} \\sum_{i=1}^n (-1)^{i+1} \\frac{x^{2i-1}}{2i-1}$"
      ]
    },
    {
      "cell_type": "markdown",
      "metadata": {
        "id": "5dDQB8SYNq91"
      },
      "source": [
        "a. Utilice el hecho de que $\\tan \\frac{\\pi}{4} = 1$ para determinar el número $n$ de términos de la serie que se necesita sumar para garantizar que $|4P_n(1) - \\pi| < 10^{-3}$"
      ]
    },
    {
      "cell_type": "markdown",
      "metadata": {
        "id": "W7g1So7bTLK4"
      },
      "source": [
        "\n",
        "\n",
        "```\n",
        "FUNCIÓN estimar_pi(precision):\n",
        "    n ← 1\n",
        "    pi_estimate ← 0\n",
        "    \n",
        "    MIENTRAS abs(4 * pi_estimate - π) ≥ precision:\n",
        "        pi_estimate ← 0\n",
        "        PARA i DESDE 1 HASTA n:\n",
        "            pi_estimate ← pi_estimate + ((-1)^(i+1) * 1^(2*i - 1)) / (2*i - 1)\n",
        "        n ← n + 1\n",
        "    \n",
        "    RETORNAR pi_estimate\n",
        "\n",
        "precision ← 10^-3\n",
        "resultado ← estimar_pi(precision)\n",
        "IMPRIMIR \"Ejercicio 2a: Estimación de π con precisión de\", precision, \":\", resultado\n",
        "```\n",
        "\n"
      ]
    },
    {
      "cell_type": "markdown",
      "metadata": {
        "id": "gLDSgi4ANwhM"
      },
      "source": [
        "b. El lenguaje de programación C++ requiere que el valor de $\\pi$ se encuentre dentro de $10^{-10}$. ¿Cuántos términos de la serie se necesitarían sumar para obtener este grado de precisión?"
      ]
    },
    {
      "cell_type": "markdown",
      "metadata": {
        "id": "lEkikr7UTrhx"
      },
      "source": [
        "\n",
        "\n",
        "```\n",
        "FUNCIÓN estimar_pi(precision):\n",
        "    n ← 1\n",
        "    pi_estimate ← 0\n",
        "    \n",
        "    MIENTRAS abs(4 * pi_estimate - π) ≥ precision:\n",
        "        pi_estimate ← 0\n",
        "        PARA i DESDE 1 HASTA n:\n",
        "            pi_estimate ← pi_estimate + ((-1)^(i+1) * 1^(2*i - 1)) / (2*i - 1)\n",
        "        n ← n + 1\n",
        "    \n",
        "    RETORNAR pi_estimate\n",
        "\n",
        "precision ← 10^-10\n",
        "resultado ← estimar_pi(precision)\n",
        "IMPRIMIR \"Ejercicio 2b: Estimación de π con precisión de\", precision, \":\", resultado\n",
        "```\n",
        "\n"
      ]
    },
    {
      "cell_type": "code",
      "execution_count": 20,
      "metadata": {
        "colab": {
          "base_uri": "https://localhost:8080/",
          "height": 0
        },
        "id": "0ogoPJuRQ_bq",
        "outputId": "37393114-3bc2-44a9-f3e8-b48cfbcb5063"
      },
      "outputs": [
        {
          "output_type": "stream",
          "name": "stdout",
          "text": [
            "Ejercicio 2a: Número de términos necesarios = 1001\n",
            "Ejercicio 2b: Número de términos necesarios = 10001\n"
          ]
        }
      ],
      "source": [
        "import math\n",
        "\n",
        "def maclaurin_arctan_terms(x, max_iterations):\n",
        "    n = 1\n",
        "    pi_estimate = 0\n",
        "\n",
        "    for _ in range(max_iterations):\n",
        "        pi_estimate += ((-1)**(n+1)) * (x**(2*n - 1)) / (2*n - 1)\n",
        "        n += 1\n",
        "\n",
        "    return n\n",
        "\n",
        "# Ejercicio 2a\n",
        "n_terms_2a = maclaurin_arctan_terms(1, 1000)\n",
        "print(f\"Ejercicio 2a: Número de términos necesarios = {n_terms_2a}\")\n",
        "\n",
        "# Ejercicio 2b\n",
        "n_terms_2b = maclaurin_arctan_terms(1, 10000)\n",
        "print(f\"Ejercicio 2b: Número de términos necesarios = {n_terms_2b}\")\n"
      ]
    },
    {
      "cell_type": "markdown",
      "metadata": {
        "id": "BE2KiseqNysc"
      },
      "source": [
        "Ejercicio 3 \\\\\n",
        "Otra fórmula para calcular $\\pi$ se puede deducir a partir de la identidad $\\frac{\\pi}{4} = 4 \\arctan \\frac{1}{5} - \\arctan \\frac{1}{239}$. Determine el número de términos que se deben sumar para garantizar una aproximación $\\pi$ dentro de $10^{-3}$."
      ]
    },
    {
      "cell_type": "markdown",
      "metadata": {
        "id": "AfEbNY0HUI-w"
      },
      "source": [
        "\n",
        "\n",
        "```\n",
        "FUNCIÓN estimar_pi():\n",
        "    n ← 1\n",
        "    pi_estimate ← 0\n",
        "    \n",
        "    MIENTRAS abs(pi_estimate - π) ≥ 10^-3:\n",
        "        pi_estimate ← 4 * sum((-1)^(i+1) * 1^(2*i - 1) / (2*i - 1) for i in range(1, n+1)) - arctan(1/239)\n",
        "        n ← n + 1\n",
        "    \n",
        "    RETORNAR pi_estimate\n",
        "\n",
        "resultado ← estimar_pi()\n",
        "IMPRIMIR \"Ejercicio 3: Estimación de π con precisión de 10^-3:\", resultado\n",
        "```\n",
        "\n"
      ]
    },
    {
      "cell_type": "code",
      "execution_count": 21,
      "metadata": {
        "id": "_mIrxXaKREq2",
        "colab": {
          "base_uri": "https://localhost:8080/",
          "height": 0
        },
        "outputId": "a760de20-a881-4909-a140-f5644f71a1e6"
      },
      "outputs": [
        {
          "output_type": "stream",
          "name": "stdout",
          "text": [
            "Ejercicio 3: Número de términos necesarios = 194\n"
          ]
        }
      ],
      "source": [
        "def leibniz_pi_terms(precision):\n",
        "    n = 1\n",
        "    pi_estimate = 0\n",
        "\n",
        "    while abs(pi_estimate - math.pi) >= precision:\n",
        "        pi_estimate = 4 * sum(((-1)**(i+1)) * (1/(2*i - 1)) for i in range(1, n+1)) - math.atan(1/239)\n",
        "        n += 1\n",
        "\n",
        "    return n\n",
        "\n",
        "# Ejercicio 3\n",
        "n_terms_3 = leibniz_pi_terms(10**-3)\n",
        "print(f\"Ejercicio 3: Número de términos necesarios = {n_terms_3}\")\n"
      ]
    },
    {
      "cell_type": "markdown",
      "metadata": {
        "id": "h20iUcoUN7Fc"
      },
      "source": [
        "Ejercicio 4 \\\\\n",
        "Compare los siguientes tres algoritmos. ¿Cuándo es correcto el algoritmo de la parte 1a?"
      ]
    },
    {
      "cell_type": "markdown",
      "metadata": {
        "id": "nfpdPFcMU1aD"
      },
      "source": [
        "Ejercicio 4a\n",
        "\n",
        "\n",
        "```\n",
        "FUNCIÓN calcular_producto_a(n, x1, x2, ..., xn):\n",
        "    producto ← 0\n",
        "    \n",
        "    PARA i DESDE 1 HASTA n:\n",
        "        producto ← producto * xi\n",
        "    \n",
        "    RETORNAR producto\n",
        "\n",
        "producto_a ← calcular_producto_a(n, x1, x2, ..., xn)\n",
        "```\n",
        "\n"
      ]
    },
    {
      "cell_type": "markdown",
      "metadata": {
        "id": "AoPM6IiKU-Bx"
      },
      "source": [
        "Ejercicio 4b\n",
        "\n",
        "\n",
        "```\n",
        "FUNCIÓN calcular_producto_b(n, x1, x2, ..., xn):\n",
        "    producto ← 1\n",
        "    \n",
        "    PARA i DESDE 1 HASTA n:\n",
        "        producto ← producto * xi\n",
        "    \n",
        "    RETORNAR producto\n",
        "\n",
        "producto_b ← calcular_producto_b(n, x1, x2, ..., xn)\n",
        "```\n",
        "\n"
      ]
    },
    {
      "cell_type": "markdown",
      "metadata": {
        "id": "LQ2WdnqkVGo_"
      },
      "source": [
        "Ejercicio 4c\n",
        "\n",
        "\n",
        "```\n",
        "FUNCIÓN calcular_producto_c(n, x1, x2, ..., xn):\n",
        "    producto ← 1\n",
        "    \n",
        "    PARA i DESDE 1 HASTA n:\n",
        "        SI xi = 0 ENTONCES\n",
        "            producto ← 0\n",
        "            RETORNAR producto\n",
        "            PARAR\n",
        "        \n",
        "        producto ← producto * xi\n",
        "    \n",
        "    RETORNAR producto\n",
        "\n",
        "producto_c ← calcular_producto_c(n, x1, x2, ..., xn)\n",
        "```\n",
        "\n"
      ]
    },
    {
      "cell_type": "code",
      "execution_count": 22,
      "metadata": {
        "id": "7UAGHZ1JRQXT",
        "colab": {
          "base_uri": "https://localhost:8080/",
          "height": 0
        },
        "outputId": "e81b8849-c215-48b7-cc40-c53192f79dad"
      },
      "outputs": [
        {
          "output_type": "stream",
          "name": "stdout",
          "text": [
            "Ejercicio 4a: Producto = 0\n",
            "Ejercicio 4b: Producto = 120\n",
            "Ejercicio 4c: Producto = 120\n"
          ]
        }
      ],
      "source": [
        "def producto_a(lista):\n",
        "    producto = 0\n",
        "    for x in lista:\n",
        "        producto *= x\n",
        "    return producto\n",
        "\n",
        "def producto_b(lista):\n",
        "    producto = 1\n",
        "    for x in lista:\n",
        "        producto *= x\n",
        "    return producto\n",
        "\n",
        "def producto_c(lista):\n",
        "    producto = 1\n",
        "    for x in lista:\n",
        "        if x == 0:\n",
        "            return 0\n",
        "        producto *= x\n",
        "    return producto\n",
        "\n",
        "# Ejercicio 4\n",
        "lista_ejemplo = [1, 2, 3, 4, 5]\n",
        "print(f\"Ejercicio 4a: Producto = {producto_a(lista_ejemplo)}\")\n",
        "print(f\"Ejercicio 4b: Producto = {producto_b(lista_ejemplo)}\")\n",
        "print(f\"Ejercicio 4c: Producto = {producto_c(lista_ejemplo)}\")\n"
      ]
    },
    {
      "cell_type": "markdown",
      "metadata": {
        "id": "cToyWFNoObML"
      },
      "source": [
        "Ejercicio 5 \\\\\n",
        "a. ¿Cuántas multiplicaciones y sumas se requieren para determinar una suma de la forma $\\sum_{i=1}^n \\sum_{j=1}^i a_{ij}$?"
      ]
    },
    {
      "cell_type": "markdown",
      "metadata": {
        "id": "t5dCHXE4Vk1i"
      },
      "source": [
        "\n",
        "\n",
        "```\n",
        "FUNCIÓN calcular_operaciones_5a(n, a1, a2, ..., an, b1, b2, ..., bn):\n",
        "    multiplicaciones ← 0\n",
        "    sumas ← 0\n",
        "    \n",
        "    PARA i DESDE 1 HASTA n:\n",
        "        PARA j DESDE 1 HASTA i:\n",
        "            multiplicaciones ← multiplicaciones + 1 // ai * bj\n",
        "            sumas ← sumas + 1 // la suma de todos los términos\n",
        "    \n",
        "    RETORNAR multiplicaciones, sumas\n",
        "\n",
        "num_multiplicaciones_5a, num_sumas_5a ← calcular_operaciones_5a(n, a1, a2, ..., an, b1, b2, ..., bn)\n",
        "```\n",
        "\n"
      ]
    },
    {
      "cell_type": "markdown",
      "metadata": {
        "id": "A0cLpRnGOBD_"
      },
      "source": [
        "b. Modifique la suma en la parte a) a un formato equivalente que reduzca el número de cálculos."
      ]
    },
    {
      "cell_type": "markdown",
      "metadata": {
        "id": "YqqM7bpzVozB"
      },
      "source": [
        "\n",
        "\n",
        "```\n",
        "FUNCIÓN calcular_operaciones_5b(n, a1, a2, ..., an, b1, b2, ..., bn):\n",
        "    multiplicaciones ← 0\n",
        "    sumas ← 0\n",
        "    \n",
        "    PARA j DESDE 1 HASTA n:\n",
        "        sum_aj ← 0\n",
        "        PARA i DESDE 1 HASTA n:\n",
        "            sum_aj ← sum_aj + ai\n",
        "        multiplicaciones ← multiplicaciones + n // b_j * sum_aj\n",
        "        sumas ← sumas + 1 // la suma total de la fila\n",
        "    \n",
        "    RETORNAR multiplicaciones, sumas\n",
        "\n",
        "num_multiplicaciones_5b, num_sumas_5b ← calcular_operaciones_5b(n, a1, a2, ..., an, b1, b2, ..., bn)\n",
        "```\n",
        "\n"
      ]
    },
    {
      "cell_type": "code",
      "execution_count": 23,
      "metadata": {
        "id": "L3P0Vp0_RhJI",
        "colab": {
          "base_uri": "https://localhost:8080/",
          "height": 0
        },
        "outputId": "7370a73f-14ec-4962-d4a1-08e664d78c80"
      },
      "outputs": [
        {
          "output_type": "stream",
          "name": "stdout",
          "text": [
            "Ejercicio 5a: Multiplicaciones = 55, Sumas = 55\n",
            "Ejercicio 5b: Multiplicaciones = 100, Sumas = 10\n"
          ]
        }
      ],
      "source": [
        "def sum_double_series(n):\n",
        "    multiplicaciones = 0\n",
        "    sumas = 0\n",
        "\n",
        "    for i in range(1, n + 1):\n",
        "        for j in range(1, i + 1):\n",
        "            multiplicaciones += 1\n",
        "            sumas += 1\n",
        "\n",
        "    return multiplicaciones, sumas\n",
        "\n",
        "def optimized_sum_double_series(n):\n",
        "    multiplicaciones = 0\n",
        "    sumas = 0\n",
        "\n",
        "    for j in range(1, n + 1):\n",
        "        sum_aj = 0\n",
        "        for i in range(1, n + 1):\n",
        "            sum_aj += 1\n",
        "        multiplicaciones += n\n",
        "        sumas += 1\n",
        "\n",
        "    return multiplicaciones, sumas\n",
        "\n",
        "# Ejercicio 5\n",
        "n_ejemplo = 10\n",
        "multiplicaciones_5a, sumas_5a = sum_double_series(n_ejemplo)\n",
        "multiplicaciones_5b, sumas_5b = optimized_sum_double_series(n_ejemplo)\n",
        "print(f\"Ejercicio 5a: Multiplicaciones = {multiplicaciones_5a}, Sumas = {sumas_5a}\")\n",
        "print(f\"Ejercicio 5b: Multiplicaciones = {multiplicaciones_5b}, Sumas = {sumas_5b}\")\n"
      ]
    },
    {
      "cell_type": "markdown",
      "metadata": {
        "id": "QSk6n9WQPt9V"
      },
      "source": [
        "Discusiones \\\\\n",
        "a. Escriba un algoritmo para sumar la serie finita $\\sum_{i=1}^n x_i$ en orden inverso."
      ]
    },
    {
      "cell_type": "markdown",
      "metadata": {
        "id": "f7OFReYlWEh4"
      },
      "source": [
        "\n",
        "\n",
        "```\n",
        "FUNCIÓN calcular_sumatoria_inversa(n, x1, x2, ..., xn):\n",
        "    sumatoria_inversa ← 0\n",
        "    \n",
        "    PARA i DESDE n HASTA 1 PASO -1:\n",
        "        sumatoria_inversa ← sumatoria_inversa + xi\n",
        "    \n",
        "    RETORNAR sumatoria_inversa\n",
        "\n",
        "resultado_sumatoria_inversa ← calcular_sumatoria_inversa(n, x1, x2, ..., xn)\n",
        "```\n",
        "\n"
      ]
    },
    {
      "cell_type": "code",
      "execution_count": 24,
      "metadata": {
        "id": "rEcrBtPTRo3f",
        "colab": {
          "base_uri": "https://localhost:8080/",
          "height": 0
        },
        "outputId": "03eb391d-cef7-413a-c6e4-de89bad95ada"
      },
      "outputs": [
        {
          "output_type": "stream",
          "name": "stdout",
          "text": [
            "Discusión 1: Sumatoria inversa = 15\n"
          ]
        }
      ],
      "source": [
        "def suma_inversa(lista):\n",
        "    sumatoria_inversa = 0\n",
        "    for i in reversed(lista):\n",
        "        sumatoria_inversa += i\n",
        "    return sumatoria_inversa\n",
        "\n",
        "# Discusión 1\n",
        "lista_ejemplo = [1, 2, 3, 4, 5]\n",
        "print(f\"Discusión 1: Sumatoria inversa = {suma_inversa(lista_ejemplo)}\")\n"
      ]
    },
    {
      "cell_type": "markdown",
      "metadata": {
        "id": "pFZVQiVoP4gs"
      },
      "source": [
        "b. Las ecuaciones (1.2) y (1.3) en la sección 1.2 proporcionan formas alternativas para las raíces $x_1$ y $x_2$ de $ax^2 + bx + c = 0$. Construya un algoritmo con entrada $a, b, c$ y salida $x_1, x_2$ que calcule las raíces $x_1$ y $x_2$ (que pueden ser iguales con conjugados complejos) mediante la mejor fórmula para cada raíz."
      ]
    },
    {
      "cell_type": "markdown",
      "metadata": {
        "id": "rV7VbeDKWi_E"
      },
      "source": [
        "\n",
        "\n",
        "```\n",
        "FUNCIÓN resolver_ecuacion_cuadratica(a, b, c):\n",
        "    SI a = 0 ENTONCES\n",
        "        SI b ≠ 0 ENTONCES\n",
        "            x1 ← -c / b\n",
        "            x2 ← -c / b\n",
        "        SINO\n",
        "            x1 ← NULL\n",
        "            x2 ← NULL\n",
        "    SINO\n",
        "        discriminante ← b^2 - 4*a*c\n",
        "        SI discriminante > 0 ENTONCES\n",
        "            x1 ← (-b + sqrt(discriminante)) / (2*a)\n",
        "            x2 ← (-b - sqrt(discriminante)) / (2*a)\n",
        "        SINO SI discriminante = 0 ENTONCES\n",
        "            x1 ← -b / (2*a)\n",
        "            x2 ← -b / (2*a)\n",
        "        SINO\n",
        "            x1 ← (-b + i*sqrt(-discriminante)) / (2*a)\n",
        "            x2 ← (-b - i*sqrt(-discriminante)) / (2*a)\n",
        "    \n",
        "    RETORNAR x1, x2\n",
        "\n",
        "a, b, c ← ENTRADA\n",
        "x1, x2 ← resolver_ecuacion_cuadratica(a, b, c)\n",
        "SALIDA x1, x2\n",
        "```\n",
        "\n"
      ]
    },
    {
      "cell_type": "code",
      "execution_count": 25,
      "metadata": {
        "id": "LuCXJ5hnRrn-",
        "colab": {
          "base_uri": "https://localhost:8080/",
          "height": 0
        },
        "outputId": "c0ef9eee-3a6e-4c27-e8f7-2ede86ade6f2"
      },
      "outputs": [
        {
          "output_type": "stream",
          "name": "stdout",
          "text": [
            "Discusión 2: Raíces = (2+0j), (1+0j)\n"
          ]
        }
      ],
      "source": [
        "import cmath\n",
        "\n",
        "def calcular_raices(a, b, c):\n",
        "    if a == 0:\n",
        "        if b != 0:\n",
        "            x1 = -c / b\n",
        "            x2 = -c / b\n",
        "        else:\n",
        "            x1 = None\n",
        "            x2 = None\n",
        "    else:\n",
        "        discriminante = b**2 - 4*a*c\n",
        "        if discriminante > 0:\n",
        "            x1 = (-b + cmath.sqrt(discriminante)) / (2*a)\n",
        "            x2 = (-b - cmath.sqrt(discriminante)) / (2*a)\n",
        "        elif discriminante == 0:\n",
        "            x1 = x2 = -b / (2*a)\n",
        "        else:\n",
        "            x1 = (-b + cmath.sqrt(discriminante)) / (2*a)\n",
        "            x2 = (-b - cmath.sqrt(discriminante)) / (2*a)\n",
        "\n",
        "    return x1, x2\n",
        "\n",
        "# Discusión 2\n",
        "a, b, c = 1, -3, 2  # Ejemplo\n",
        "x1, x2 = calcular_raices(a, b, c)\n",
        "print(f\"Discusión 2: Raíces = {x1}, {x2}\")\n"
      ]
    },
    {
      "cell_type": "markdown",
      "metadata": {
        "id": "D0lfBZ0YP-Kt"
      },
      "source": [
        "c. Suponga que $\\frac{1-2x}{1-x+x^2} + \\frac{2x-4x^3}{1-x^2+x^4} + \\frac{4x^3-8x^7}{1-x^4+x^8} + \\cdots = \\frac{1+2x}{1+x+x^2}$, para $x < 1$ y si $x = 0.25$. Escriba y ejecute un algoritmo que determine el número de términos necesarios en el lado izquierdo de la ecuación de tal forma que el lado izquierdo difiera del lado derecho en menos de $10^{-6}$."
      ]
    },
    {
      "cell_type": "markdown",
      "metadata": {
        "id": "jEphyimUWrQs"
      },
      "source": [
        "\n",
        "\n",
        "```\n",
        "FUNCIÓN calcular_diferencia(x):\n",
        "    diferencia ← abs(\n",
        "        (1 - 2*x) / (1 - x + x^2) +\n",
        "        (2*x - 4*x^3) / (1 - x^2 + x^4) +\n",
        "        (4*x^3 - 8*x^7) / (1 - x^4 + x^8) + ... -\n",
        "        (1 + 2*x) / (1 + x + x^2)\n",
        "    )\n",
        "    \n",
        "    n_terminos ← 0\n",
        "    \n",
        "    MIENTRAS diferencia ≥ 10^-6:\n",
        "        n_terminos ← n_terminos + 1\n",
        "        diferencia ← abs(\n",
        "            (1 - 2*x) / (1 - x + x^2) +\n",
        "            (2*x - 4*x^3) / (1 - x^2 + x^4) +\n",
        "            (4*x^3 - 8*x^7) / (1 - x^4 + x^8) + ... -\n",
        "            (1 + 2*x) / (1 + x + x^2)\n",
        "        )\n",
        "    \n",
        "    RETORNAR n_terminos\n",
        "\n",
        "x ← ENTRADA\n",
        "n_terminos ← calcular_diferencia(x)\n",
        "SALIDA n_terminos\n",
        "```\n",
        "\n"
      ]
    },
    {
      "cell_type": "code",
      "execution_count": 26,
      "metadata": {
        "id": "hmSjvEiBQc44",
        "colab": {
          "base_uri": "https://localhost:8080/",
          "height": 0
        },
        "outputId": "1689c822-791b-4eed-fa77-036d0bec98ad"
      },
      "outputs": [
        {
          "output_type": "stream",
          "name": "stdout",
          "text": [
            "Discusión 3: Número de términos necesarios = 11\n"
          ]
        }
      ],
      "source": [
        "def calcular_terminos(x, precision):\n",
        "    suma_anterior = 0\n",
        "    n_terminos = 0\n",
        "\n",
        "    while True:\n",
        "        suma_actual = (\n",
        "            (1 - 2*x) / (1 - x + x**2) +\n",
        "            (2*x - 4*x**3) / (1 - x**2 + x**4) +\n",
        "            (4*x**3 - 8*x**(3+n_terminos)) / (1 - x**(2+n_terminos) + x**(4+n_terminos)) -\n",
        "            (1 + 2*x) / (1 + x + x**2)\n",
        "        )\n",
        "        diferencia = abs(suma_actual - suma_anterior)\n",
        "        n_terminos += 1\n",
        "\n",
        "        if diferencia < precision:\n",
        "            break\n",
        "\n",
        "        suma_anterior = suma_actual\n",
        "\n",
        "    return n_terminos\n",
        "\n",
        "# Discusión 3\n",
        "x = 0.25\n",
        "precision = 10**-6\n",
        "n_terminos_disc3 = calcular_terminos(x, precision)\n",
        "print(f\"Discusión 3: Número de términos necesarios = {n_terminos_disc3}\")\n"
      ]
    }
  ],
  "metadata": {
    "colab": {
      "provenance": [],
      "authorship_tag": "ABX9TyNXaNC9v3XCTKvWctSvbzy8",
      "include_colab_link": true
    },
    "kernelspec": {
      "display_name": "Python 3",
      "name": "python3"
    },
    "language_info": {
      "name": "python"
    }
  },
  "nbformat": 4,
  "nbformat_minor": 0
}